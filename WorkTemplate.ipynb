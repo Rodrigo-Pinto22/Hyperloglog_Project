{
 "cells": [
  {
   "cell_type": "markdown",
   "id": "375aacc5",
   "metadata": {},
   "source": [
    "<br>\n",
    "\n",
    "# Técnicas Matemáticas para Big Data - Project NN?\n",
    "<br><br>\n"
   ]
  },
  {
   "cell_type": "markdown",
   "id": "8b47c68c",
   "metadata": {},
   "source": [
    "GROUP NN:\n",
    "- Rodrigo Pinto - Nº 103280 - ??% Work Participation\n",
    "- Student 2 - Nº xxxxx - ??% Work Participation"
   ]
  },
  {
   "cell_type": "markdown",
   "id": "c66fb045",
   "metadata": {},
   "source": [
    "<br><br>\n",
    "\n",
    "## 1. Introduction to the problem of study [1,0 valor]"
   ]
  },
  {
   "cell_type": "markdown",
   "id": "41af2342",
   "metadata": {},
   "source": [
    "<br><br>\n",
    "## 2. Brief and general description of the approach and methods used [1,5 valor]"
   ]
  },
  {
   "cell_type": "markdown",
   "id": "0e324615",
   "metadata": {},
   "source": [
    "<br><br>\n",
    "## 3. Brief History and literature review of the problem and methods/algorithms [1,5 valor]"
   ]
  },
  {
   "cell_type": "markdown",
   "id": "4889a980",
   "metadata": {},
   "source": [
    "<br><br>\n",
    "## 4. About the main method/algorithm used [1,5 valor]"
   ]
  },
  {
   "cell_type": "markdown",
   "id": "52795c65",
   "metadata": {},
   "source": [
    "<br><br>\n",
    "\n",
    "## 5. Python imports and global configurations [0,5 valor]"
   ]
  },
  {
   "cell_type": "markdown",
   "id": "6f0f3deb",
   "metadata": {},
   "source": [
    "### Install and import the necessary libraries to compute the Bayesian Network and perform other methods  "
   ]
  },
  {
   "cell_type": "code",
   "execution_count": 2,
   "id": "b5177dbe",
   "metadata": {},
   "outputs": [
    {
     "name": "stdout",
     "output_type": "stream",
     "text": [
      "Collecting duckdb\n",
      "  Downloading duckdb-1.4.1-cp312-cp312-win_amd64.whl.metadata (14 kB)\n",
      "Requirement already satisfied: pandas in c:\\users\\asus\\miniconda3\\envs\\fcd\\lib\\site-packages (2.2.3)\n",
      "Requirement already satisfied: requests in c:\\users\\asus\\miniconda3\\envs\\fcd\\lib\\site-packages (2.32.3)\n",
      "Requirement already satisfied: tqdm in c:\\users\\asus\\appdata\\roaming\\python\\python312\\site-packages (4.66.5)\n",
      "Requirement already satisfied: numpy>=1.26.0 in c:\\users\\asus\\miniconda3\\envs\\fcd\\lib\\site-packages (from pandas) (1.26.4)\n",
      "Requirement already satisfied: python-dateutil>=2.8.2 in c:\\users\\asus\\miniconda3\\envs\\fcd\\lib\\site-packages (from pandas) (2.9.0)\n",
      "Requirement already satisfied: pytz>=2020.1 in c:\\users\\asus\\miniconda3\\envs\\fcd\\lib\\site-packages (from pandas) (2024.1)\n",
      "Requirement already satisfied: tzdata>=2022.7 in c:\\users\\asus\\miniconda3\\envs\\fcd\\lib\\site-packages (from pandas) (2024.2)\n",
      "Requirement already satisfied: charset-normalizer<4,>=2 in c:\\users\\asus\\miniconda3\\envs\\fcd\\lib\\site-packages (from requests) (3.4.0)\n",
      "Requirement already satisfied: idna<4,>=2.5 in c:\\users\\asus\\miniconda3\\envs\\fcd\\lib\\site-packages (from requests) (3.10)\n",
      "Requirement already satisfied: urllib3<3,>=1.21.1 in c:\\users\\asus\\miniconda3\\envs\\fcd\\lib\\site-packages (from requests) (2.2.3)\n",
      "Requirement already satisfied: certifi>=2017.4.17 in c:\\users\\asus\\miniconda3\\envs\\fcd\\lib\\site-packages (from requests) (2024.8.30)\n",
      "Requirement already satisfied: colorama in c:\\users\\asus\\miniconda3\\envs\\fcd\\lib\\site-packages (from tqdm) (0.4.6)\n",
      "Requirement already satisfied: six>=1.5 in c:\\users\\asus\\miniconda3\\envs\\fcd\\lib\\site-packages (from python-dateutil>=2.8.2->pandas) (1.16.0)\n",
      "Downloading duckdb-1.4.1-cp312-cp312-win_amd64.whl (12.3 MB)\n",
      "   ---------------------------------------- 0.0/12.3 MB ? eta -:--:--\n",
      "   ---- ----------------------------------- 1.3/12.3 MB 9.5 MB/s eta 0:00:02\n",
      "   ----------- ---------------------------- 3.4/12.3 MB 10.1 MB/s eta 0:00:01\n",
      "   ---------------- ----------------------- 5.2/12.3 MB 9.7 MB/s eta 0:00:01\n",
      "   ------------------------ --------------- 7.6/12.3 MB 9.8 MB/s eta 0:00:01\n",
      "   ------------------------------- -------- 9.7/12.3 MB 9.9 MB/s eta 0:00:01\n",
      "   -------------------------------------- - 11.8/12.3 MB 9.7 MB/s eta 0:00:01\n",
      "   ---------------------------------------- 12.3/12.3 MB 9.7 MB/s eta 0:00:00\n",
      "Installing collected packages: duckdb\n",
      "Successfully installed duckdb-1.4.1\n",
      "Note: you may need to restart the kernel to use updated packages.\n"
     ]
    }
   ],
   "source": [
    "# %pip install pandas\n",
    "# %pip install seaborn\n",
    "# %pip install matplotlib\n",
    "# %pip install numpy\n",
    "# %pip install pomegranate\n",
    "# %pip install torch\n",
    "# %pip install Pillow\n",
    "%pip install duckdb pandas requests tqdm\n"
   ]
  },
  {
   "cell_type": "markdown",
   "id": "bb739aae",
   "metadata": {},
   "source": [
    "<br><br>\n",
    "\n",
    "## 6. Dataset and variables explanation [1,5 valor]"
   ]
  },
  {
   "cell_type": "code",
   "execution_count": 4,
   "id": "4ba5281f",
   "metadata": {},
   "outputs": [
    {
     "name": "stderr",
     "output_type": "stream",
     "text": [
      "Processando 2024-10-01:  29%|██▉       | 7/24 [01:19<03:11, 11.29s/it]\n"
     ]
    },
    {
     "ename": "KeyboardInterrupt",
     "evalue": "",
     "output_type": "error",
     "traceback": [
      "\u001b[1;31m---------------------------------------------------------------------------\u001b[0m",
      "\u001b[1;31mKeyboardInterrupt\u001b[0m                         Traceback (most recent call last)",
      "Cell \u001b[1;32mIn[4], line 72\u001b[0m\n\u001b[0;32m     70\u001b[0m \u001b[38;5;28;01mwhile\u001b[39;00m current_date \u001b[38;5;241m<\u001b[39m END_DATE:\n\u001b[0;32m     71\u001b[0m     \u001b[38;5;28;01mfor\u001b[39;00m hour \u001b[38;5;129;01min\u001b[39;00m tqdm(\u001b[38;5;28mrange\u001b[39m(\u001b[38;5;241m24\u001b[39m), desc\u001b[38;5;241m=\u001b[39m\u001b[38;5;124mf\u001b[39m\u001b[38;5;124m\"\u001b[39m\u001b[38;5;124mProcessando \u001b[39m\u001b[38;5;132;01m{\u001b[39;00mcurrent_date\u001b[38;5;241m.\u001b[39mdate()\u001b[38;5;132;01m}\u001b[39;00m\u001b[38;5;124m\"\u001b[39m):\n\u001b[1;32m---> 72\u001b[0m         records \u001b[38;5;241m=\u001b[39m \u001b[43mdownload_and_parse\u001b[49m\u001b[43m(\u001b[49m\u001b[43mcurrent_date\u001b[49m\u001b[43m,\u001b[49m\u001b[43m \u001b[49m\u001b[43mhour\u001b[49m\u001b[43m)\u001b[49m\n\u001b[0;32m     73\u001b[0m         all_records\u001b[38;5;241m.\u001b[39mextend(records)\n\u001b[0;32m     74\u001b[0m     current_date \u001b[38;5;241m+\u001b[39m\u001b[38;5;241m=\u001b[39m timedelta(days\u001b[38;5;241m=\u001b[39m\u001b[38;5;241m1\u001b[39m)\n",
      "Cell \u001b[1;32mIn[4], line 51\u001b[0m, in \u001b[0;36mdownload_and_parse\u001b[1;34m(date_obj, hour)\u001b[0m\n\u001b[0;32m     49\u001b[0m \u001b[38;5;28;01mfor\u001b[39;00m line \u001b[38;5;129;01min\u001b[39;00m data:\n\u001b[0;32m     50\u001b[0m     \u001b[38;5;28;01mtry\u001b[39;00m:\n\u001b[1;32m---> 51\u001b[0m         e \u001b[38;5;241m=\u001b[39m \u001b[43mjson\u001b[49m\u001b[38;5;241;43m.\u001b[39;49m\u001b[43mloads\u001b[49m\u001b[43m(\u001b[49m\u001b[43mline\u001b[49m\u001b[43m)\u001b[49m\n\u001b[0;32m     52\u001b[0m         records\u001b[38;5;241m.\u001b[39mappend({\n\u001b[0;32m     53\u001b[0m             \u001b[38;5;124m\"\u001b[39m\u001b[38;5;124mactor_id\u001b[39m\u001b[38;5;124m\"\u001b[39m: e\u001b[38;5;241m.\u001b[39mget(\u001b[38;5;124m\"\u001b[39m\u001b[38;5;124mactor\u001b[39m\u001b[38;5;124m\"\u001b[39m, {})\u001b[38;5;241m.\u001b[39mget(\u001b[38;5;124m\"\u001b[39m\u001b[38;5;124mid\u001b[39m\u001b[38;5;124m\"\u001b[39m),\n\u001b[0;32m     54\u001b[0m             \u001b[38;5;124m\"\u001b[39m\u001b[38;5;124mactor_login\u001b[39m\u001b[38;5;124m\"\u001b[39m: e\u001b[38;5;241m.\u001b[39mget(\u001b[38;5;124m\"\u001b[39m\u001b[38;5;124mactor\u001b[39m\u001b[38;5;124m\"\u001b[39m, {})\u001b[38;5;241m.\u001b[39mget(\u001b[38;5;124m\"\u001b[39m\u001b[38;5;124mlogin\u001b[39m\u001b[38;5;124m\"\u001b[39m),\n\u001b[1;32m   (...)\u001b[0m\n\u001b[0;32m     57\u001b[0m             \u001b[38;5;124m\"\u001b[39m\u001b[38;5;124mcreated_at\u001b[39m\u001b[38;5;124m\"\u001b[39m: e\u001b[38;5;241m.\u001b[39mget(\u001b[38;5;124m\"\u001b[39m\u001b[38;5;124mcreated_at\u001b[39m\u001b[38;5;124m\"\u001b[39m)\n\u001b[0;32m     58\u001b[0m         })\n\u001b[0;32m     59\u001b[0m     \u001b[38;5;28;01mexcept\u001b[39;00m json\u001b[38;5;241m.\u001b[39mJSONDecodeError:\n",
      "File \u001b[1;32mc:\\Users\\ASUS\\miniconda3\\envs\\FCD\\Lib\\json\\__init__.py:346\u001b[0m, in \u001b[0;36mloads\u001b[1;34m(s, cls, object_hook, parse_float, parse_int, parse_constant, object_pairs_hook, **kw)\u001b[0m\n\u001b[0;32m    341\u001b[0m     s \u001b[38;5;241m=\u001b[39m s\u001b[38;5;241m.\u001b[39mdecode(detect_encoding(s), \u001b[38;5;124m'\u001b[39m\u001b[38;5;124msurrogatepass\u001b[39m\u001b[38;5;124m'\u001b[39m)\n\u001b[0;32m    343\u001b[0m \u001b[38;5;28;01mif\u001b[39;00m (\u001b[38;5;28mcls\u001b[39m \u001b[38;5;129;01mis\u001b[39;00m \u001b[38;5;28;01mNone\u001b[39;00m \u001b[38;5;129;01mand\u001b[39;00m object_hook \u001b[38;5;129;01mis\u001b[39;00m \u001b[38;5;28;01mNone\u001b[39;00m \u001b[38;5;129;01mand\u001b[39;00m\n\u001b[0;32m    344\u001b[0m         parse_int \u001b[38;5;129;01mis\u001b[39;00m \u001b[38;5;28;01mNone\u001b[39;00m \u001b[38;5;129;01mand\u001b[39;00m parse_float \u001b[38;5;129;01mis\u001b[39;00m \u001b[38;5;28;01mNone\u001b[39;00m \u001b[38;5;129;01mand\u001b[39;00m\n\u001b[0;32m    345\u001b[0m         parse_constant \u001b[38;5;129;01mis\u001b[39;00m \u001b[38;5;28;01mNone\u001b[39;00m \u001b[38;5;129;01mand\u001b[39;00m object_pairs_hook \u001b[38;5;129;01mis\u001b[39;00m \u001b[38;5;28;01mNone\u001b[39;00m \u001b[38;5;129;01mand\u001b[39;00m \u001b[38;5;129;01mnot\u001b[39;00m kw):\n\u001b[1;32m--> 346\u001b[0m     \u001b[38;5;28;01mreturn\u001b[39;00m \u001b[43m_default_decoder\u001b[49m\u001b[38;5;241;43m.\u001b[39;49m\u001b[43mdecode\u001b[49m\u001b[43m(\u001b[49m\u001b[43ms\u001b[49m\u001b[43m)\u001b[49m\n\u001b[0;32m    347\u001b[0m \u001b[38;5;28;01mif\u001b[39;00m \u001b[38;5;28mcls\u001b[39m \u001b[38;5;129;01mis\u001b[39;00m \u001b[38;5;28;01mNone\u001b[39;00m:\n\u001b[0;32m    348\u001b[0m     \u001b[38;5;28mcls\u001b[39m \u001b[38;5;241m=\u001b[39m JSONDecoder\n",
      "File \u001b[1;32mc:\\Users\\ASUS\\miniconda3\\envs\\FCD\\Lib\\json\\decoder.py:338\u001b[0m, in \u001b[0;36mJSONDecoder.decode\u001b[1;34m(self, s, _w)\u001b[0m\n\u001b[0;32m    333\u001b[0m \u001b[38;5;250m\u001b[39m\u001b[38;5;124;03m\"\"\"Return the Python representation of ``s`` (a ``str`` instance\u001b[39;00m\n\u001b[0;32m    334\u001b[0m \u001b[38;5;124;03mcontaining a JSON document).\u001b[39;00m\n\u001b[0;32m    335\u001b[0m \n\u001b[0;32m    336\u001b[0m \u001b[38;5;124;03m\"\"\"\u001b[39;00m\n\u001b[0;32m    337\u001b[0m obj, end \u001b[38;5;241m=\u001b[39m \u001b[38;5;28mself\u001b[39m\u001b[38;5;241m.\u001b[39mraw_decode(s, idx\u001b[38;5;241m=\u001b[39m_w(s, \u001b[38;5;241m0\u001b[39m)\u001b[38;5;241m.\u001b[39mend())\n\u001b[1;32m--> 338\u001b[0m end \u001b[38;5;241m=\u001b[39m \u001b[43m_w\u001b[49m\u001b[43m(\u001b[49m\u001b[43ms\u001b[49m\u001b[43m,\u001b[49m\u001b[43m \u001b[49m\u001b[43mend\u001b[49m\u001b[43m)\u001b[49m\u001b[38;5;241m.\u001b[39mend()\n\u001b[0;32m    339\u001b[0m \u001b[38;5;28;01mif\u001b[39;00m end \u001b[38;5;241m!=\u001b[39m \u001b[38;5;28mlen\u001b[39m(s):\n\u001b[0;32m    340\u001b[0m     \u001b[38;5;28;01mraise\u001b[39;00m JSONDecodeError(\u001b[38;5;124m\"\u001b[39m\u001b[38;5;124mExtra data\u001b[39m\u001b[38;5;124m\"\u001b[39m, s, end)\n",
      "\u001b[1;31mKeyboardInterrupt\u001b[0m: "
     ]
    }
   ],
   "source": [
    "import os\n",
    "import gzip\n",
    "import json\n",
    "import requests\n",
    "import duckdb\n",
    "import pandas as pd\n",
    "from datetime import datetime, timedelta\n",
    "from tqdm import tqdm\n",
    "\n",
    "# ----------------------------------------------\n",
    "# CONFIGURAÇÕES\n",
    "# ----------------------------------------------\n",
    "# Pasta local onde os ficheiros .json.gz serão guardados\n",
    "DATA_DIR = \"gharchive_data\"\n",
    "os.makedirs(DATA_DIR, exist_ok=True)\n",
    "\n",
    "# Base de dados DuckDB\n",
    "DB_PATH = \"github_archive.duckdb\"\n",
    "\n",
    "# Intervalo de tempo (exemplo: 3 dias)\n",
    "START_DATE = datetime(2024, 10, 1)\n",
    "END_DATE = datetime(2024, 10, 2)  # até, mas não incluindo este dia\n",
    "\n",
    "# ----------------------------------------------\n",
    "# FUNÇÃO PARA DOWNLOAD E LEITURA DE UM FICHEIRO\n",
    "# ----------------------------------------------\n",
    "def download_and_parse(date_obj, hour):\n",
    "    \"\"\"Faz download de um ficheiro GHArchive para uma data/hora específica.\"\"\"\n",
    "    date_str = date_obj.strftime(\"%Y-%m-%d\")\n",
    "    url = f\"https://data.gharchive.org/{date_str}-{hour}.json.gz\"\n",
    "    local_path = os.path.join(DATA_DIR, f\"{date_str}-{hour}.json.gz\")\n",
    "\n",
    "    # Se já existir localmente, não faz download novamente\n",
    "    if not os.path.exists(local_path):\n",
    "        r = requests.get(url, timeout=60)\n",
    "        if r.status_code == 200:\n",
    "            with open(local_path, \"wb\") as f:\n",
    "                f.write(r.content)\n",
    "        else:\n",
    "            print(f\"[Aviso] Falhou o download de {url} (status {r.status_code})\")\n",
    "            return []\n",
    "\n",
    "    # Lê o conteúdo\n",
    "    with gzip.open(local_path, \"rb\") as f:\n",
    "        data = f.read().decode(\"utf-8\").splitlines()\n",
    "\n",
    "    # Extrai apenas os campos relevantes\n",
    "    records = []\n",
    "    for line in data:\n",
    "        try:\n",
    "            e = json.loads(line)\n",
    "            records.append({\n",
    "                \"actor_id\": e.get(\"actor\", {}).get(\"id\"),\n",
    "                \"actor_login\": e.get(\"actor\", {}).get(\"login\"),\n",
    "                \"repo_name\": e.get(\"repo\", {}).get(\"name\"),\n",
    "                \"type\": e.get(\"type\"),\n",
    "                \"created_at\": e.get(\"created_at\")\n",
    "            })\n",
    "        except json.JSONDecodeError:\n",
    "            continue\n",
    "\n",
    "    return records\n",
    "\n",
    "# ----------------------------------------------\n",
    "# LOOP PRINCIPAL DE DOWNLOAD + ARMAZENAMENTO\n",
    "# ----------------------------------------------\n",
    "all_records = []\n",
    "\n",
    "current_date = START_DATE\n",
    "while current_date < END_DATE:\n",
    "    for hour in tqdm(range(24), desc=f\"Processando {current_date.date()}\"):\n",
    "        records = download_and_parse(current_date, hour)\n",
    "        all_records.extend(records)\n",
    "    current_date += timedelta(days=1)\n",
    "\n",
    "# Converte para DataFrame\n",
    "df = pd.DataFrame(all_records)\n",
    "print(f\"\\nTotal de eventos recolhidos: {len(df):,}\")\n",
    "\n",
    "# ----------------------------------------------\n",
    "# GRAVAÇÃO NA BASE DE DADOS DUCKDB\n",
    "# ----------------------------------------------\n",
    "con = duckdb.connect(DB_PATH)\n",
    "con.execute(\"\"\"\n",
    "CREATE TABLE IF NOT EXISTS github_events (\n",
    "    actor_id BIGINT,\n",
    "    actor_login VARCHAR,\n",
    "    repo_name VARCHAR,\n",
    "    type VARCHAR,\n",
    "    created_at TIMESTAMP\n",
    ")\n",
    "\"\"\")\n",
    "\n",
    "con.register(\"tmp_df\", df)\n",
    "con.execute(\"INSERT INTO github_events SELECT * FROM tmp_df\")\n",
    "con.close()\n",
    "\n",
    "print(f\"\\n✅ Dados guardados com sucesso em {DB_PATH}\")\n"
   ]
  },
  {
   "cell_type": "code",
   "execution_count": 5,
   "id": "0656ac8e",
   "metadata": {},
   "outputs": [
    {
     "name": "stderr",
     "output_type": "stream",
     "text": [
      "A carregar ficheiros locais: 100%|██████████| 48/48 [10:45<00:00, 13.44s/it]\n"
     ]
    },
    {
     "name": "stdout",
     "output_type": "stream",
     "text": [
      "\n",
      "Total de eventos extraídos: 10,174,100\n",
      "✅ Inseridos 10,174,100 novos registos na base github_archive.duckdb\n"
     ]
    }
   ],
   "source": [
    "# Caminhos\n",
    "DATA_DIR = \"gharchive_data\"\n",
    "DB_PATH = \"github_archive.duckdb\"\n",
    "\n",
    "# Função para ler ficheiro local\n",
    "def read_local_file(path):\n",
    "    \"\"\"Lê ficheiro JSON.GZ local e devolve lista de registos relevantes.\"\"\"\n",
    "    with gzip.open(path, \"rb\") as f:\n",
    "        data = f.read().decode(\"utf-8\").splitlines()\n",
    "\n",
    "    records = []\n",
    "    for line in data:\n",
    "        try:\n",
    "            e = json.loads(line)\n",
    "            records.append({\n",
    "                \"actor_id\": e.get(\"actor\", {}).get(\"id\"),\n",
    "                \"actor_login\": e.get(\"actor\", {}).get(\"login\"),\n",
    "                \"repo_name\": e.get(\"repo\", {}).get(\"name\"),\n",
    "                \"type\": e.get(\"type\"),\n",
    "                \"created_at\": e.get(\"created_at\")\n",
    "            })\n",
    "        except json.JSONDecodeError:\n",
    "            continue\n",
    "    return records\n",
    "\n",
    "\n",
    "# Lê todos os ficheiros .json.gz da pasta\n",
    "files = sorted([f for f in os.listdir(DATA_DIR) if f.endswith(\".json.gz\")])\n",
    "\n",
    "all_records = []\n",
    "for file in tqdm(files, desc=\"A carregar ficheiros locais\"):\n",
    "    path = os.path.join(DATA_DIR, file)\n",
    "    records = read_local_file(path)\n",
    "    all_records.extend(records)\n",
    "\n",
    "# Converte para DataFrame\n",
    "df = pd.DataFrame(all_records)\n",
    "print(f\"\\nTotal de eventos extraídos: {len(df):,}\")\n",
    "\n",
    "# Conexão à base DuckDB\n",
    "con = duckdb.connect(DB_PATH)\n",
    "\n",
    "# Cria tabela se não existir\n",
    "con.execute(\"\"\"\n",
    "CREATE TABLE IF NOT EXISTS github_events (\n",
    "    actor_id BIGINT,\n",
    "    actor_login VARCHAR,\n",
    "    repo_name VARCHAR,\n",
    "    type VARCHAR,\n",
    "    created_at TIMESTAMP\n",
    ")\n",
    "\"\"\")\n",
    "\n",
    "# Regista dataframe temporário e insere na tabela\n",
    "con.register(\"tmp_df\", df)\n",
    "con.execute(\"INSERT INTO github_events SELECT * FROM tmp_df\")\n",
    "con.close()\n",
    "\n",
    "print(f\"✅ Inseridos {len(df):,} novos registos na base {DB_PATH}\")"
   ]
  },
  {
   "cell_type": "code",
   "execution_count": 2,
   "id": "3a1409fb",
   "metadata": {},
   "outputs": [
    {
     "data": {
      "application/vnd.microsoft.datawrangler.viewer.v0+json": {
       "columns": [
        {
         "name": "index",
         "rawType": "int64",
         "type": "integer"
        },
        {
         "name": "actor_id",
         "rawType": "int64",
         "type": "integer"
        },
        {
         "name": "actor_login",
         "rawType": "object",
         "type": "string"
        },
        {
         "name": "repo_name",
         "rawType": "object",
         "type": "string"
        },
        {
         "name": "type",
         "rawType": "object",
         "type": "string"
        },
        {
         "name": "created_at",
         "rawType": "datetime64[us]",
         "type": "unknown"
        }
       ],
       "ref": "0ced7842-210c-4d10-b96f-e7f47b4e6752",
       "rows": [
        [
         "0",
         "34755028",
         "ivanagas",
         "PostHog/posthog.com",
         "PullRequestEvent",
         "2024-10-02 23:59:59"
        ],
        [
         "1",
         "41898282",
         "github-actions[bot]",
         "ePlus-DEV/metrics",
         "PushEvent",
         "2024-10-02 23:59:59"
        ],
        [
         "2",
         "165398914",
         "net7toulouse",
         "inp-net/churros",
         "PushEvent",
         "2024-10-02 23:59:59"
        ],
        [
         "3",
         "171880006",
         "Peterparkerbr23",
         "Peterparkerbr23/pedro3f",
         "CreateEvent",
         "2024-10-02 23:59:59"
        ],
        [
         "4",
         "113317341",
         "prkr9",
         "prkr9/sshl",
         "PushEvent",
         "2024-10-02 23:59:59"
        ],
        [
         "5",
         "177841759",
         "correa-augusto",
         "correa-augusto/primeiroRepositorioWeb",
         "DeleteEvent",
         "2024-10-02 23:59:59"
        ],
        [
         "6",
         "174059141",
         "HoucineMohamed",
         "HoucineMohamed/HoucineMohamed",
         "CreateEvent",
         "2024-10-02 23:59:59"
        ],
        [
         "7",
         "116701466",
         "hashsllngingslasher",
         "hashsllngingslasher/bigdata-jupytor",
         "PushEvent",
         "2024-10-02 23:59:59"
        ],
        [
         "8",
         "128195885",
         "JaydenCruz2004",
         "JaydenCruz2004/JaydenCruz2004.github.io",
         "CreateEvent",
         "2024-10-02 23:59:59"
        ],
        [
         "9",
         "9019229",
         "sayboras",
         "cilium/cilium",
         "PullRequestEvent",
         "2024-10-02 23:59:59"
        ],
        [
         "10",
         "34755028",
         "ivanagas",
         "PostHog/posthog.com",
         "DeleteEvent",
         "2024-10-02 23:59:59"
        ],
        [
         "11",
         "74418173",
         "red5511",
         "red5511/FoodAppUI",
         "PushEvent",
         "2024-10-02 23:59:59"
        ],
        [
         "12",
         "102790989",
         "kpnsec",
         "kpnsec/iplist",
         "PushEvent",
         "2024-10-02 23:59:59"
        ],
        [
         "13",
         "41898282",
         "github-actions[bot]",
         "naufalzuhdan/lavagithub",
         "PushEvent",
         "2024-10-02 23:59:59"
        ],
        [
         "14",
         "41898282",
         "github-actions[bot]",
         "laughing-train/fantastic-octo-spork",
         "PushEvent",
         "2024-10-02 23:59:59"
        ],
        [
         "15",
         "15111560",
         "waltjohnson",
         "inertialsense/inertial-sense-sdk",
         "PushEvent",
         "2024-10-02 23:59:59"
        ],
        [
         "16",
         "159103506",
         "VanessaNunnes",
         "VanessaNunnes/ExemploGit",
         "CreateEvent",
         "2024-10-02 23:59:59"
        ],
        [
         "17",
         "183667833",
         "elliothyoung",
         "elliothyoung/elliothyoung.github.io",
         "PushEvent",
         "2024-10-02 23:59:59"
        ],
        [
         "18",
         "130306075",
         "daviapolin17",
         "estevaotavares1/TrabalhoDW20-06",
         "PushEvent",
         "2024-10-02 23:59:59"
        ],
        [
         "19",
         "159103506",
         "VanessaNunnes",
         "VanessaNunnes/ExemploGit",
         "CreateEvent",
         "2024-10-02 23:59:59"
        ]
       ],
       "shape": {
        "columns": 5,
        "rows": 20
       }
      },
      "text/html": [
       "<div>\n",
       "<style scoped>\n",
       "    .dataframe tbody tr th:only-of-type {\n",
       "        vertical-align: middle;\n",
       "    }\n",
       "\n",
       "    .dataframe tbody tr th {\n",
       "        vertical-align: top;\n",
       "    }\n",
       "\n",
       "    .dataframe thead th {\n",
       "        text-align: right;\n",
       "    }\n",
       "</style>\n",
       "<table border=\"1\" class=\"dataframe\">\n",
       "  <thead>\n",
       "    <tr style=\"text-align: right;\">\n",
       "      <th></th>\n",
       "      <th>actor_id</th>\n",
       "      <th>actor_login</th>\n",
       "      <th>repo_name</th>\n",
       "      <th>type</th>\n",
       "      <th>created_at</th>\n",
       "    </tr>\n",
       "  </thead>\n",
       "  <tbody>\n",
       "    <tr>\n",
       "      <th>0</th>\n",
       "      <td>34755028</td>\n",
       "      <td>ivanagas</td>\n",
       "      <td>PostHog/posthog.com</td>\n",
       "      <td>PullRequestEvent</td>\n",
       "      <td>2024-10-02 23:59:59</td>\n",
       "    </tr>\n",
       "    <tr>\n",
       "      <th>1</th>\n",
       "      <td>41898282</td>\n",
       "      <td>github-actions[bot]</td>\n",
       "      <td>ePlus-DEV/metrics</td>\n",
       "      <td>PushEvent</td>\n",
       "      <td>2024-10-02 23:59:59</td>\n",
       "    </tr>\n",
       "    <tr>\n",
       "      <th>2</th>\n",
       "      <td>165398914</td>\n",
       "      <td>net7toulouse</td>\n",
       "      <td>inp-net/churros</td>\n",
       "      <td>PushEvent</td>\n",
       "      <td>2024-10-02 23:59:59</td>\n",
       "    </tr>\n",
       "    <tr>\n",
       "      <th>3</th>\n",
       "      <td>171880006</td>\n",
       "      <td>Peterparkerbr23</td>\n",
       "      <td>Peterparkerbr23/pedro3f</td>\n",
       "      <td>CreateEvent</td>\n",
       "      <td>2024-10-02 23:59:59</td>\n",
       "    </tr>\n",
       "    <tr>\n",
       "      <th>4</th>\n",
       "      <td>113317341</td>\n",
       "      <td>prkr9</td>\n",
       "      <td>prkr9/sshl</td>\n",
       "      <td>PushEvent</td>\n",
       "      <td>2024-10-02 23:59:59</td>\n",
       "    </tr>\n",
       "    <tr>\n",
       "      <th>5</th>\n",
       "      <td>177841759</td>\n",
       "      <td>correa-augusto</td>\n",
       "      <td>correa-augusto/primeiroRepositorioWeb</td>\n",
       "      <td>DeleteEvent</td>\n",
       "      <td>2024-10-02 23:59:59</td>\n",
       "    </tr>\n",
       "    <tr>\n",
       "      <th>6</th>\n",
       "      <td>174059141</td>\n",
       "      <td>HoucineMohamed</td>\n",
       "      <td>HoucineMohamed/HoucineMohamed</td>\n",
       "      <td>CreateEvent</td>\n",
       "      <td>2024-10-02 23:59:59</td>\n",
       "    </tr>\n",
       "    <tr>\n",
       "      <th>7</th>\n",
       "      <td>116701466</td>\n",
       "      <td>hashsllngingslasher</td>\n",
       "      <td>hashsllngingslasher/bigdata-jupytor</td>\n",
       "      <td>PushEvent</td>\n",
       "      <td>2024-10-02 23:59:59</td>\n",
       "    </tr>\n",
       "    <tr>\n",
       "      <th>8</th>\n",
       "      <td>128195885</td>\n",
       "      <td>JaydenCruz2004</td>\n",
       "      <td>JaydenCruz2004/JaydenCruz2004.github.io</td>\n",
       "      <td>CreateEvent</td>\n",
       "      <td>2024-10-02 23:59:59</td>\n",
       "    </tr>\n",
       "    <tr>\n",
       "      <th>9</th>\n",
       "      <td>9019229</td>\n",
       "      <td>sayboras</td>\n",
       "      <td>cilium/cilium</td>\n",
       "      <td>PullRequestEvent</td>\n",
       "      <td>2024-10-02 23:59:59</td>\n",
       "    </tr>\n",
       "    <tr>\n",
       "      <th>10</th>\n",
       "      <td>34755028</td>\n",
       "      <td>ivanagas</td>\n",
       "      <td>PostHog/posthog.com</td>\n",
       "      <td>DeleteEvent</td>\n",
       "      <td>2024-10-02 23:59:59</td>\n",
       "    </tr>\n",
       "    <tr>\n",
       "      <th>11</th>\n",
       "      <td>74418173</td>\n",
       "      <td>red5511</td>\n",
       "      <td>red5511/FoodAppUI</td>\n",
       "      <td>PushEvent</td>\n",
       "      <td>2024-10-02 23:59:59</td>\n",
       "    </tr>\n",
       "    <tr>\n",
       "      <th>12</th>\n",
       "      <td>102790989</td>\n",
       "      <td>kpnsec</td>\n",
       "      <td>kpnsec/iplist</td>\n",
       "      <td>PushEvent</td>\n",
       "      <td>2024-10-02 23:59:59</td>\n",
       "    </tr>\n",
       "    <tr>\n",
       "      <th>13</th>\n",
       "      <td>41898282</td>\n",
       "      <td>github-actions[bot]</td>\n",
       "      <td>naufalzuhdan/lavagithub</td>\n",
       "      <td>PushEvent</td>\n",
       "      <td>2024-10-02 23:59:59</td>\n",
       "    </tr>\n",
       "    <tr>\n",
       "      <th>14</th>\n",
       "      <td>41898282</td>\n",
       "      <td>github-actions[bot]</td>\n",
       "      <td>laughing-train/fantastic-octo-spork</td>\n",
       "      <td>PushEvent</td>\n",
       "      <td>2024-10-02 23:59:59</td>\n",
       "    </tr>\n",
       "    <tr>\n",
       "      <th>15</th>\n",
       "      <td>15111560</td>\n",
       "      <td>waltjohnson</td>\n",
       "      <td>inertialsense/inertial-sense-sdk</td>\n",
       "      <td>PushEvent</td>\n",
       "      <td>2024-10-02 23:59:59</td>\n",
       "    </tr>\n",
       "    <tr>\n",
       "      <th>16</th>\n",
       "      <td>159103506</td>\n",
       "      <td>VanessaNunnes</td>\n",
       "      <td>VanessaNunnes/ExemploGit</td>\n",
       "      <td>CreateEvent</td>\n",
       "      <td>2024-10-02 23:59:59</td>\n",
       "    </tr>\n",
       "    <tr>\n",
       "      <th>17</th>\n",
       "      <td>183667833</td>\n",
       "      <td>elliothyoung</td>\n",
       "      <td>elliothyoung/elliothyoung.github.io</td>\n",
       "      <td>PushEvent</td>\n",
       "      <td>2024-10-02 23:59:59</td>\n",
       "    </tr>\n",
       "    <tr>\n",
       "      <th>18</th>\n",
       "      <td>130306075</td>\n",
       "      <td>daviapolin17</td>\n",
       "      <td>estevaotavares1/TrabalhoDW20-06</td>\n",
       "      <td>PushEvent</td>\n",
       "      <td>2024-10-02 23:59:59</td>\n",
       "    </tr>\n",
       "    <tr>\n",
       "      <th>19</th>\n",
       "      <td>159103506</td>\n",
       "      <td>VanessaNunnes</td>\n",
       "      <td>VanessaNunnes/ExemploGit</td>\n",
       "      <td>CreateEvent</td>\n",
       "      <td>2024-10-02 23:59:59</td>\n",
       "    </tr>\n",
       "  </tbody>\n",
       "</table>\n",
       "</div>"
      ],
      "text/plain": [
       "     actor_id          actor_login                                repo_name  \\\n",
       "0    34755028             ivanagas                      PostHog/posthog.com   \n",
       "1    41898282  github-actions[bot]                        ePlus-DEV/metrics   \n",
       "2   165398914         net7toulouse                          inp-net/churros   \n",
       "3   171880006      Peterparkerbr23                  Peterparkerbr23/pedro3f   \n",
       "4   113317341                prkr9                               prkr9/sshl   \n",
       "5   177841759       correa-augusto    correa-augusto/primeiroRepositorioWeb   \n",
       "6   174059141       HoucineMohamed            HoucineMohamed/HoucineMohamed   \n",
       "7   116701466  hashsllngingslasher      hashsllngingslasher/bigdata-jupytor   \n",
       "8   128195885       JaydenCruz2004  JaydenCruz2004/JaydenCruz2004.github.io   \n",
       "9     9019229             sayboras                            cilium/cilium   \n",
       "10   34755028             ivanagas                      PostHog/posthog.com   \n",
       "11   74418173              red5511                        red5511/FoodAppUI   \n",
       "12  102790989               kpnsec                            kpnsec/iplist   \n",
       "13   41898282  github-actions[bot]                  naufalzuhdan/lavagithub   \n",
       "14   41898282  github-actions[bot]      laughing-train/fantastic-octo-spork   \n",
       "15   15111560          waltjohnson         inertialsense/inertial-sense-sdk   \n",
       "16  159103506        VanessaNunnes                 VanessaNunnes/ExemploGit   \n",
       "17  183667833         elliothyoung      elliothyoung/elliothyoung.github.io   \n",
       "18  130306075         daviapolin17          estevaotavares1/TrabalhoDW20-06   \n",
       "19  159103506        VanessaNunnes                 VanessaNunnes/ExemploGit   \n",
       "\n",
       "                type          created_at  \n",
       "0   PullRequestEvent 2024-10-02 23:59:59  \n",
       "1          PushEvent 2024-10-02 23:59:59  \n",
       "2          PushEvent 2024-10-02 23:59:59  \n",
       "3        CreateEvent 2024-10-02 23:59:59  \n",
       "4          PushEvent 2024-10-02 23:59:59  \n",
       "5        DeleteEvent 2024-10-02 23:59:59  \n",
       "6        CreateEvent 2024-10-02 23:59:59  \n",
       "7          PushEvent 2024-10-02 23:59:59  \n",
       "8        CreateEvent 2024-10-02 23:59:59  \n",
       "9   PullRequestEvent 2024-10-02 23:59:59  \n",
       "10       DeleteEvent 2024-10-02 23:59:59  \n",
       "11         PushEvent 2024-10-02 23:59:59  \n",
       "12         PushEvent 2024-10-02 23:59:59  \n",
       "13         PushEvent 2024-10-02 23:59:59  \n",
       "14         PushEvent 2024-10-02 23:59:59  \n",
       "15         PushEvent 2024-10-02 23:59:59  \n",
       "16       CreateEvent 2024-10-02 23:59:59  \n",
       "17         PushEvent 2024-10-02 23:59:59  \n",
       "18         PushEvent 2024-10-02 23:59:59  \n",
       "19       CreateEvent 2024-10-02 23:59:59  "
      ]
     },
     "execution_count": 2,
     "metadata": {},
     "output_type": "execute_result"
    }
   ],
   "source": [
    "import duckdb\n",
    "con = duckdb.connect(\"github_archive.duckdb\")\n",
    "\n",
    "df = con.execute(\"\"\"\n",
    "SELECT actor_id, actor_login, repo_name, type, created_at\n",
    "FROM github_events\n",
    "ORDER BY created_at DESC\n",
    "LIMIT 20\n",
    "\"\"\").fetchdf()\n",
    "\n",
    "df"
   ]
  },
  {
   "cell_type": "code",
   "execution_count": 5,
   "id": "4b39f832",
   "metadata": {},
   "outputs": [
    {
     "data": {
      "text/plain": [
       "10174100"
      ]
     },
     "execution_count": 5,
     "metadata": {},
     "output_type": "execute_result"
    }
   ],
   "source": [
    "\n",
    "a = con.execute(\"\"\"SELECT COUNT(*) AS total_eventos\n",
    "FROM github_events;\"\"\").fetchone()[0]\n",
    "a\n",
    "\n"
   ]
  },
  {
   "cell_type": "code",
   "execution_count": 6,
   "id": "0831dc77",
   "metadata": {},
   "outputs": [
    {
     "data": {
      "application/vnd.microsoft.datawrangler.viewer.v0+json": {
       "columns": [
        {
         "name": "index",
         "rawType": "int64",
         "type": "integer"
        },
        {
         "name": "column_name",
         "rawType": "object",
         "type": "string"
        },
        {
         "name": "column_type",
         "rawType": "object",
         "type": "string"
        },
        {
         "name": "null",
         "rawType": "object",
         "type": "string"
        },
        {
         "name": "key",
         "rawType": "object",
         "type": "unknown"
        },
        {
         "name": "default",
         "rawType": "object",
         "type": "unknown"
        },
        {
         "name": "extra",
         "rawType": "object",
         "type": "unknown"
        }
       ],
       "ref": "f6111852-1823-4005-ae11-267b2d37cbeb",
       "rows": [
        [
         "0",
         "actor_id",
         "BIGINT",
         "YES",
         null,
         null,
         null
        ],
        [
         "1",
         "actor_login",
         "VARCHAR",
         "YES",
         null,
         null,
         null
        ],
        [
         "2",
         "repo_name",
         "VARCHAR",
         "YES",
         null,
         null,
         null
        ],
        [
         "3",
         "type",
         "VARCHAR",
         "YES",
         null,
         null,
         null
        ],
        [
         "4",
         "created_at",
         "TIMESTAMP",
         "YES",
         null,
         null,
         null
        ]
       ],
       "shape": {
        "columns": 6,
        "rows": 5
       }
      },
      "text/html": [
       "<div>\n",
       "<style scoped>\n",
       "    .dataframe tbody tr th:only-of-type {\n",
       "        vertical-align: middle;\n",
       "    }\n",
       "\n",
       "    .dataframe tbody tr th {\n",
       "        vertical-align: top;\n",
       "    }\n",
       "\n",
       "    .dataframe thead th {\n",
       "        text-align: right;\n",
       "    }\n",
       "</style>\n",
       "<table border=\"1\" class=\"dataframe\">\n",
       "  <thead>\n",
       "    <tr style=\"text-align: right;\">\n",
       "      <th></th>\n",
       "      <th>column_name</th>\n",
       "      <th>column_type</th>\n",
       "      <th>null</th>\n",
       "      <th>key</th>\n",
       "      <th>default</th>\n",
       "      <th>extra</th>\n",
       "    </tr>\n",
       "  </thead>\n",
       "  <tbody>\n",
       "    <tr>\n",
       "      <th>0</th>\n",
       "      <td>actor_id</td>\n",
       "      <td>BIGINT</td>\n",
       "      <td>YES</td>\n",
       "      <td>None</td>\n",
       "      <td>None</td>\n",
       "      <td>None</td>\n",
       "    </tr>\n",
       "    <tr>\n",
       "      <th>1</th>\n",
       "      <td>actor_login</td>\n",
       "      <td>VARCHAR</td>\n",
       "      <td>YES</td>\n",
       "      <td>None</td>\n",
       "      <td>None</td>\n",
       "      <td>None</td>\n",
       "    </tr>\n",
       "    <tr>\n",
       "      <th>2</th>\n",
       "      <td>repo_name</td>\n",
       "      <td>VARCHAR</td>\n",
       "      <td>YES</td>\n",
       "      <td>None</td>\n",
       "      <td>None</td>\n",
       "      <td>None</td>\n",
       "    </tr>\n",
       "    <tr>\n",
       "      <th>3</th>\n",
       "      <td>type</td>\n",
       "      <td>VARCHAR</td>\n",
       "      <td>YES</td>\n",
       "      <td>None</td>\n",
       "      <td>None</td>\n",
       "      <td>None</td>\n",
       "    </tr>\n",
       "    <tr>\n",
       "      <th>4</th>\n",
       "      <td>created_at</td>\n",
       "      <td>TIMESTAMP</td>\n",
       "      <td>YES</td>\n",
       "      <td>None</td>\n",
       "      <td>None</td>\n",
       "      <td>None</td>\n",
       "    </tr>\n",
       "  </tbody>\n",
       "</table>\n",
       "</div>"
      ],
      "text/plain": [
       "   column_name column_type null   key default extra\n",
       "0     actor_id      BIGINT  YES  None    None  None\n",
       "1  actor_login     VARCHAR  YES  None    None  None\n",
       "2    repo_name     VARCHAR  YES  None    None  None\n",
       "3         type     VARCHAR  YES  None    None  None\n",
       "4   created_at   TIMESTAMP  YES  None    None  None"
      ]
     },
     "execution_count": 6,
     "metadata": {},
     "output_type": "execute_result"
    }
   ],
   "source": [
    "\n",
    "con = duckdb.connect(\"github_archive.duckdb\")\n",
    "\n",
    "schema = con.execute(\"DESCRIBE github_events\").fetchdf()\n",
    "schema\n"
   ]
  },
  {
   "cell_type": "markdown",
   "id": "e5703771",
   "metadata": {},
   "source": [
    "<br><br>\n",
    "\n",
    "## 7. Main code as possible solution to the problem [1,5 valor] "
   ]
  },
  {
   "cell_type": "markdown",
   "id": "87a15554",
   "metadata": {},
   "source": [
    "<br><br>\n",
    "\n",
    "## 8. Analysis of Example 1 [3,0 valor]"
   ]
  },
  {
   "cell_type": "markdown",
   "id": "a0f7810c",
   "metadata": {},
   "source": [
    "<br><br>\n",
    "\n",
    "## 9. Analysis of Example 2 [3,0 valor]"
   ]
  },
  {
   "cell_type": "markdown",
   "id": "1e821172",
   "metadata": {},
   "source": [
    "<br><br>\n",
    "## 10. Pros and cons of the approach [2,0 valor]"
   ]
  },
  {
   "cell_type": "markdown",
   "id": "60974d68",
   "metadata": {},
   "source": [
    "<br><br>\n",
    "## 11. Future improvements [2,0 valor]"
   ]
  },
  {
   "cell_type": "markdown",
   "id": "04b1eb04",
   "metadata": {},
   "source": [
    "<br>\n",
    "<div style=\"text-align: center;\">\n",
    "    <br><br>\n",
    "    <p style=\"font-size: 40px;\">References [1,0 valor]</p>\n",
    "</div>\n",
    "<br>\n"
   ]
  }
 ],
 "metadata": {
  "kernelspec": {
   "display_name": "FCD",
   "language": "python",
   "name": "python3"
  },
  "language_info": {
   "codemirror_mode": {
    "name": "ipython",
    "version": 3
   },
   "file_extension": ".py",
   "mimetype": "text/x-python",
   "name": "python",
   "nbconvert_exporter": "python",
   "pygments_lexer": "ipython3",
   "version": "3.12.7"
  }
 },
 "nbformat": 4,
 "nbformat_minor": 5
}
